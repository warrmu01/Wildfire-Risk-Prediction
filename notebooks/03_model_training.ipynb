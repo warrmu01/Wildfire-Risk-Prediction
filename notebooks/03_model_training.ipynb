{
 "cells": [
  {
   "cell_type": "code",
   "execution_count": null,
   "id": "26fd7be3",
   "metadata": {},
   "outputs": [],
   "source": [
    "import pandas as pd\n",
    "import numpy as np\n",
    "import matplotlib.pyplot as plt\n",
    "import joblib\n",
    "from joblib import dump, load\n",
    "from collections import Counter\n",
    "from pipeline import create_wildfire_pipeline\n",
    "from data_loader import load_fire_data\n",
    "from Data_Preparation import prepare_features\n",
    "\n",
    "\n",
    "from sklearn.ensemble import RandomForestRegressor\n",
    "from xgboost import XGBRegressor\n",
    "\n",
    "from sklearn.model_selection import train_test_split\n",
    "from sklearn.metrics import mean_squared_error, mean_absolute_error, r2_score, mean_absolute_percentage_error\n",
    "from sklearn.preprocessing import LabelEncoder\n",
    "from sklearn.model_selection import GridSearchCV\n",
    "\n",
    "\n",
    "from imblearn.over_sampling import SMOTE\n",
    "from sklearn.pipeline import Pipeline\n",
    "\n",
    "\n"
   ]
  },
  {
   "cell_type": "code",
   "execution_count": 2,
   "id": "4b29d96f",
   "metadata": {},
   "outputs": [],
   "source": [
    "def evaluate_xgb(X_train, y_train, X_dev, y_dev):\n",
    "    print(\"Evaluating XGBoost Regressor...\")\n",
    "\n",
    "    param_grid = {\n",
    "        'algo__n_estimators': [1000],\n",
    "        'algo__max_depth': [2, 3, 4],\n",
    "        'algo__learning_rate': [0.01, 0.05, 0.1],\n",
    "        'algo__subsample': [0.8, 1.0],\n",
    "    }\n",
    "\n",
    "    pipeline = create_wildfire_pipeline(\n",
    "        numeric_features=['LATITUDE', 'LONGITUDE', 'DISCOVERY_DOY', 'DISCOVERY_HOUR'],\n",
    "        categorical_features=['STATE', 'STAT_CAUSE_DESCR', 'OWNER_DESCR', 'SEASON', 'CAUSE_SIMPLE']\n",
    "    )\n",
    "\n",
    "    pipeline_with_algo = Pipeline(steps=[\n",
    "        ('preprocessor', pipeline),\n",
    "        ('algo', XGBRegressor(objective='reg:squarederror', random_state=42))\n",
    "    ])\n",
    "\n",
    "    grid_search = GridSearchCV(\n",
    "        pipeline_with_algo, param_grid,\n",
    "        cv=5,\n",
    "        scoring='neg_mean_squared_error',\n",
    "        verbose=1\n",
    "    )\n",
    "    grid_search.fit(X_train, y_train)\n",
    "\n",
    "    best_estimator = grid_search.best_estimator_\n",
    "\n",
    "    # Feature importance\n",
    "    try:\n",
    "        model = best_estimator.named_steps[\"algo\"]\n",
    "        preprocessor = best_estimator.named_steps[\"preprocessor\"]\n",
    "        feature_names = preprocessor.get_feature_names_out()\n",
    "        importances = model.feature_importances_\n",
    "\n",
    "        feature_df = pd.DataFrame({\n",
    "            \"Feature\": feature_names,\n",
    "            \"Importance\": importances\n",
    "        }).sort_values(by=\"Importance\", ascending=False)\n",
    "\n",
    "        print(\"\\nTop 10 Most Important Features:\")\n",
    "        print(feature_df.head(10))\n",
    "    except Exception as e:\n",
    "        print(\"Could not extract feature importances:\", e)\n",
    "\n",
    "    y_pred = best_estimator.predict(X_dev)\n",
    "    rmse = np.sqrt(mean_squared_error(y_dev, y_pred))\n",
    "    mape = mean_absolute_percentage_error(y_dev, y_pred)\n",
    "    r2 = r2_score(y_dev, y_pred)\n",
    "\n",
    "    print(\"Grid searching is done!\")\n",
    "    print(\"Best score (neg MSE):\", grid_search.best_score_)\n",
    "    print(\"Best hyperparameters:\", grid_search.best_params_)\n",
    "\n",
    "    return best_estimator, rmse, mape, r2"
   ]
  },
  {
   "cell_type": "code",
   "execution_count": 3,
   "id": "e5ad73fd",
   "metadata": {},
   "outputs": [
    {
     "name": "stderr",
     "output_type": "stream",
     "text": [
      "/Users/m.mughees/Desktop/Wildfire-Risk-Prediction/notebooks/Data_Preparation.py:27: FutureWarning: A value is trying to be set on a copy of a DataFrame or Series through chained assignment using an inplace method.\n",
      "The behavior will change in pandas 3.0. This inplace method will never work because the intermediate object on which we are setting values always behaves as a copy.\n",
      "\n",
      "For example, when doing 'df[col].method(value, inplace=True)', try using 'df.method({col: value}, inplace=True)' or df[col] = df[col].method(value) instead, to perform the operation inplace on the original object.\n",
      "\n",
      "\n",
      "  df['DISCOVERY_HOUR'].fillna(df['DISCOVERY_HOUR'].median(), inplace=True)\n"
     ]
    }
   ],
   "source": [
    "# Load & prep\n",
    "df = load_fire_data('../data/FPA_FOD_20170508.sqlite')\n",
    "df = prepare_features(df)"
   ]
  },
  {
   "cell_type": "code",
   "execution_count": 4,
   "id": "41814e20",
   "metadata": {},
   "outputs": [],
   "source": [
    "\n",
    "X = df[[\n",
    "    'LATITUDE', 'LONGITUDE', 'DISCOVERY_DOY', 'DISCOVERY_HOUR',\n",
    "    'STATE', 'OWNER_DESCR', 'SEASON', 'STAT_CAUSE_DESCR', 'CAUSE_SIMPLE'\n",
    "]]\n",
    "\n",
    "y = df['FIRE_SIZE']"
   ]
  },
  {
   "cell_type": "code",
   "execution_count": 5,
   "id": "dc9cd28a",
   "metadata": {},
   "outputs": [],
   "source": [
    "X_train, X_dev, y_train, y_dev = train_test_split(X, y, test_size=0.2, random_state=42)\n"
   ]
  },
  {
   "cell_type": "code",
   "execution_count": 6,
   "id": "be750b4b",
   "metadata": {},
   "outputs": [
    {
     "name": "stdout",
     "output_type": "stream",
     "text": [
      "Evaluating XGBoost Regressor...\n",
      "Fitting 5 folds for each of 18 candidates, totalling 90 fits\n",
      "\n",
      "Top 10 Most Important Features:\n",
      "                            Feature  Importance\n",
      "31                    cat__STATE_NC    0.094608\n",
      "21                    cat__STATE_KY    0.089241\n",
      "14                    cat__STATE_GA    0.080224\n",
      "53                    cat__STATE_WI    0.058510\n",
      "56      cat__STAT_CAUSE_DESCR_Arson    0.032693\n",
      "58   cat__STAT_CAUSE_DESCR_Children    0.031774\n",
      "40                    cat__STATE_OK    0.029956\n",
      "62  cat__STAT_CAUSE_DESCR_Lightning    0.025077\n",
      "9                     cat__STATE_CO    0.023798\n",
      "1                    num__LONGITUDE    0.022922\n",
      "Grid searching is done!\n",
      "Best score (neg MSE): -1.3639341363905115\n",
      "Best hyperparameters: {'algo__learning_rate': 0.1, 'algo__max_depth': 4, 'algo__n_estimators': 1000, 'algo__subsample': 0.8}\n",
      "RMSE: 1.1656 | MAPE: 3.8892 | R²: 0.2444\n"
     ]
    }
   ],
   "source": [
    "# Train & evaluate\n",
    "best_model, rmse, mape, r2 = evaluate_xgb(X_train, y_train, X_dev, y_dev)\n",
    "print(f\"RMSE: {rmse:.4f} | MAPE: {mape:.4f} | R²: {r2:.4f}\")"
   ]
  }
 ],
 "metadata": {
  "kernelspec": {
   "display_name": "venv",
   "language": "python",
   "name": "python3"
  },
  "language_info": {
   "codemirror_mode": {
    "name": "ipython",
    "version": 3
   },
   "file_extension": ".py",
   "mimetype": "text/x-python",
   "name": "python",
   "nbconvert_exporter": "python",
   "pygments_lexer": "ipython3",
   "version": "3.11.2"
  }
 },
 "nbformat": 4,
 "nbformat_minor": 5
}
